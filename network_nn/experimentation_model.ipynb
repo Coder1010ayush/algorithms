{
 "cells": [
  {
   "cell_type": "code",
   "execution_count": null,
   "metadata": {},
   "outputs": [],
   "source": [
    "# -------------------------------------- utf-8 encoding -----------------------------------------\n",
    "# this file contains kinds of layers test cases that are implemented here\n"
   ]
  },
  {
   "cell_type": "code",
   "execution_count": 9,
   "metadata": {},
   "outputs": [],
   "source": [
    "from tensor import Tensor\n",
    "from initializer_w import Initializer\n",
    "from layers.models import Linear\n",
    "from optimizer.optim import GradientOptimiser\n",
    "from layers.module import Module\n",
    "from autograd.autodiff import mse"
   ]
  },
  {
   "cell_type": "code",
   "execution_count": 10,
   "metadata": {},
   "outputs": [],
   "source": [
    "class LinearModel(Module):\n",
    "\n",
    "    def __init__(\n",
    "        self,\n",
    "        in_features: int = 5,\n",
    "        out_features: int = 1,\n",
    "        init_type=\"uniform\",\n",
    "        meta: dict = {\"low\": 0.0, \"high\": 1.0},\n",
    "    ):\n",
    "        super().__init__()\n",
    "        self.in_feature = in_features\n",
    "        self.out_feature = out_features\n",
    "        self.init_type = init_type\n",
    "        self.meta =  meta\n",
    "        self.linear = Linear(in_feature= self.in_feature , out_feature=self.out_feature , init_type=self.init_type  , meta=self.meta)\n",
    "\n",
    "    def forward(self, x: Tensor):\n",
    "\n",
    "        out = self.linear(x)\n",
    "        return out\n",
    "\n",
    "model = LinearModel()"
   ]
  },
  {
   "cell_type": "code",
   "execution_count": 11,
   "metadata": {},
   "outputs": [
    {
     "name": "stdout",
     "output_type": "stream",
     "text": [
      "<__main__.LinearModel object at 0x73bcb05fa980>\n"
     ]
    }
   ],
   "source": [
    "print(model)"
   ]
  },
  {
   "cell_type": "code",
   "execution_count": 12,
   "metadata": {},
   "outputs": [],
   "source": [
    "# defining input data for this\n",
    "init_w  = Initializer()\n",
    "x = init_w.forward(shape=(50 , 5) , init_type=\"random\"  , retain_grad=True , meta=None)\n",
    "y = init_w.forward(shape=(50, 1), init_type=\"random\", retain_grad=True, meta=None)"
   ]
  },
  {
   "cell_type": "code",
   "execution_count": 13,
   "metadata": {},
   "outputs": [
    {
     "name": "stdout",
     "output_type": "stream",
     "text": [
      "<optimizer.optim.GradientOptimiser object at 0x73bcb05fb310>\n"
     ]
    }
   ],
   "source": [
    "optimiser = GradientOptimiser(param=model.parameters() )\n",
    "print(optimiser)"
   ]
  },
  {
   "cell_type": "code",
   "execution_count": 14,
   "metadata": {},
   "outputs": [
    {
     "name": "stdout",
     "output_type": "stream",
     "text": [
      "Loss at Epoch 0 is : netwok_nn.tensor(4.496886204414178 , grad = 1.0)\n",
      "Loss at Epoch 1 is : netwok_nn.tensor(4.496886204414178 , grad = 1.0)\n",
      "Loss at Epoch 2 is : netwok_nn.tensor(4.496886204414178 , grad = 1.0)\n",
      "Loss at Epoch 3 is : netwok_nn.tensor(4.496886204414178 , grad = 1.0)\n",
      "Loss at Epoch 4 is : netwok_nn.tensor(4.496886204414178 , grad = 1.0)\n",
      "Loss at Epoch 5 is : netwok_nn.tensor(4.496886204414178 , grad = 1.0)\n",
      "Loss at Epoch 6 is : netwok_nn.tensor(4.496886204414178 , grad = 1.0)\n",
      "Loss at Epoch 7 is : netwok_nn.tensor(4.496886204414178 , grad = 1.0)\n",
      "Loss at Epoch 8 is : netwok_nn.tensor(4.496886204414178 , grad = 1.0)\n",
      "Loss at Epoch 9 is : netwok_nn.tensor(4.496886204414178 , grad = 1.0)\n",
      "Loss at Epoch 10 is : netwok_nn.tensor(4.496886204414178 , grad = 1.0)\n",
      "Loss at Epoch 11 is : netwok_nn.tensor(4.496886204414178 , grad = 1.0)\n",
      "Loss at Epoch 12 is : netwok_nn.tensor(4.496886204414178 , grad = 1.0)\n",
      "Loss at Epoch 13 is : netwok_nn.tensor(4.496886204414178 , grad = 1.0)\n",
      "Loss at Epoch 14 is : netwok_nn.tensor(4.496886204414178 , grad = 1.0)\n",
      "Loss at Epoch 15 is : netwok_nn.tensor(4.496886204414178 , grad = 1.0)\n",
      "Loss at Epoch 16 is : netwok_nn.tensor(4.496886204414178 , grad = 1.0)\n",
      "Loss at Epoch 17 is : netwok_nn.tensor(4.496886204414178 , grad = 1.0)\n",
      "Loss at Epoch 18 is : netwok_nn.tensor(4.496886204414178 , grad = 1.0)\n",
      "Loss at Epoch 19 is : netwok_nn.tensor(4.496886204414178 , grad = 1.0)\n"
     ]
    }
   ],
   "source": [
    "for epoch in range(20):\n",
    "    out = model(x)\n",
    "    loss = mse(predictions= out , targets=y)\n",
    "    loss.backprop()\n",
    "    print(f\"Loss at Epoch {epoch} is : {loss}\")\n",
    "    \n",
    "    optimiser.step()"
   ]
  },
  {
   "cell_type": "code",
   "execution_count": null,
   "metadata": {},
   "outputs": [],
   "source": []
  }
 ],
 "metadata": {
  "kernelspec": {
   "display_name": "Python 3",
   "language": "python",
   "name": "python3"
  },
  "language_info": {
   "codemirror_mode": {
    "name": "ipython",
    "version": 3
   },
   "file_extension": ".py",
   "mimetype": "text/x-python",
   "name": "python",
   "nbconvert_exporter": "python",
   "pygments_lexer": "ipython3",
   "version": "3.10.12"
  }
 },
 "nbformat": 4,
 "nbformat_minor": 2
}
